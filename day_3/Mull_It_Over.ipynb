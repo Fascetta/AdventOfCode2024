{
 "cells": [
  {
   "cell_type": "markdown",
   "metadata": {},
   "source": [
    "# Day 3: Mull It Over"
   ]
  },
  {
   "cell_type": "markdown",
   "metadata": {},
   "source": [
    "## Part 1"
   ]
  },
  {
   "cell_type": "markdown",
   "metadata": {},
   "source": [
    "\"Our computers are having issues, so I have no idea if we have any Chief  \n",
    "Historians in stock! You're welcome to check the warehouse, though,\" says  \n",
    "the mildly flustered shopkeeper at the North Pole Toboggan Rental Shop. The  \n",
    "Historians head out to take a look.\n",
    "\n",
    "The shopkeeper turns to you. \"Any chance you can see why our computers are  \n",
    "having issues again?\"\n",
    "\n",
    "The computer appears to be trying to run a program, but its memory (your  \n",
    "puzzle input) is **corrupted**. All of the instructions have been jumbled up!\n",
    "\n",
    "It seems like the goal of the program is just to **multiply some numbers**. It  \n",
    "does that with instructions like ```mul(X,Y)```, where ```X``` and ```Y``` are each 1-3 digit  \n",
    "numbers. For instance, ```mul(44,46)``` multiplies ```44``` by ```46``` to get a result of  \n",
    "```2024```. Similarly, ```mul(123,4)``` would multiply ```123``` by ```4```.\n",
    "\n",
    "However, because the program's memory has been corrupted, there are also  \n",
    "many invalid characters that should be **ignored**, even if they look like part  \n",
    "of a ```mul``` instruction. Sequences like ```mul(4*```, ```mul(6,9!```, ```?(12,34)```, or  \n",
    "```mul ( 2 , 4 )``` do **nothing**.\n",
    "\n",
    "For example, consider the following section of corrupted memory:\n",
    "\n",
    "```xmul(2,4)%&mul[3,7]!@^do_not_mul(5,5)+mul(32,64]then(mul(11,8)mul(8,5))```\n",
    "\n",
    "Only the four highlighted sections are real ```mul``` instructions. Adding up the result of each instruction produces ```161``` (```2*4 + 5*5 + 11*8 + 8*5```).\n",
    "\n",
    "Scan the corrupted memory for uncorrupted ```mul``` instructions. **What do you get if you add up all of the results of the multiplications?**\n"
   ]
  },
  {
   "cell_type": "markdown",
   "metadata": {},
   "source": [
    "### Code"
   ]
  },
  {
   "cell_type": "markdown",
   "metadata": {},
   "source": [
    "Read the input file"
   ]
  },
  {
   "cell_type": "code",
   "execution_count": 4,
   "metadata": {},
   "outputs": [
    {
     "data": {
      "text/plain": [
       "183380722"
      ]
     },
     "execution_count": 4,
     "metadata": {},
     "output_type": "execute_result"
    }
   ],
   "source": [
    "with open('puzzle_input.txt', 'r', encoding='UTF-8') as f:\n",
    "    puzzle_input = f.read().strip()\n",
    "\n",
    "import re\n",
    "\n",
    "# Initialize result\n",
    "result = 0\n",
    "\n",
    "# Regular expression to match valid mul() patterns\n",
    "pattern = r\"mul\\((\\d+),(\\d+)\\)\"\n",
    "\n",
    "# Find all matches\n",
    "matches = re.findall(pattern, puzzle_input)\n",
    "\n",
    "# Process each match\n",
    "for match in matches:\n",
    "    try:\n",
    "        # Convert to integers and calculate the product\n",
    "        a, b = map(int, match)\n",
    "        result += a * b\n",
    "    except ValueError:\n",
    "        # Handle invalid numeric conversions (shouldn't happen with this regex)\n",
    "        continue\n",
    "\n",
    "result\n",
    "\n",
    "result"
   ]
  },
  {
   "cell_type": "markdown",
   "metadata": {},
   "source": [
    "## Part 2"
   ]
  },
  {
   "cell_type": "markdown",
   "metadata": {},
   "source": [
    "As you scan through the corrupted memory, you notice that some of the  \n",
    "conditional statements are also still intact. If you handle some of the  \n",
    "uncorrupted conditional statements in the program, you might be able to get  \n",
    "an even more accurate result.\n",
    "\n",
    "There are two new instructions you'll need to handle:\n",
    "\n",
    "- The ```do()``` instruction **enables** future mul instructions.\n",
    "- The ```don't()``` instruction **disables** future mul instructions.\n",
    "\n",
    "Only the **most recent** do() or don't() instruction applies. At the beginning of the program, mul instructions are **enabled**.\n",
    "\n",
    "For example:\n",
    "\n",
    "```xmul(2,4)&mul[3,7]!^don't()_mul(5,5)+mul(32,64](mul(11,8)undo()?mul(8,5))```\n",
    "\n",
    "This corrupted memory is similar to the example from before, but this time  \n",
    "the ```mul(5,5)``` and ```mul(11,8)``` instructions are **disabled** because there is a  \n",
    "```don't()``` instruction before them. The other ```mul``` instructions function  \n",
    "normally, including the one at the end that gets re-**enabled** by a ```do()```  \n",
    "instruction.\n",
    "\n",
    "This time, the sum of the results is ```48``` (```2*4 + 8*5```).\n",
    "\n",
    "Handle the new instructions; **what do you get if you add up all of the  \n",
    "results of just the enabled multiplications?**"
   ]
  },
  {
   "cell_type": "markdown",
   "metadata": {},
   "source": [
    "### Code"
   ]
  },
  {
   "cell_type": "code",
   "execution_count": null,
   "metadata": {},
   "outputs": [
    {
     "data": {
      "text/plain": [
       "626"
      ]
     },
     "execution_count": 69,
     "metadata": {},
     "output_type": "execute_result"
    }
   ],
   "source": [
    "with open('puzzle_input.txt', 'r', encoding='UTF-8') as f:\n",
    "    puzzle_input = f.read().strip()\n",
    "\n",
    "import re\n",
    "\n",
    "# Initialize result\n",
    "result = 0\n",
    "mul_enabled = True\n",
    "\n",
    "# Regular expressions\n",
    "mul_pattern = r\"mul\\((\\d+),(\\d+)\\)\"  # Match valid mul(a,b)\n",
    "do_pattern = r\"do\\(\\)\"               # Match do()\n",
    "dont_pattern = r\"don't\\(\\)\"          # Match don't()\n",
    "\n",
    "# Tokenize the input based on instructions\n",
    "tokens = re.split(r\"(do\\(\\)|don't\\(\\)|mul\\(\\d+,\\d+\\))\", puzzle_input)\n",
    "\n",
    "# Process tokens\n",
    "for token in tokens:\n",
    "    if re.match(do_pattern, token):\n",
    "        # Enable mul instructions\n",
    "        mul_enabled = True\n",
    "    elif re.match(dont_pattern, token):\n",
    "        # Disable mul instructions\n",
    "        mul_enabled = False\n",
    "    elif match := re.match(mul_pattern, token):\n",
    "        # Process valid mul instructions if enabled\n",
    "        if mul_enabled:\n",
    "            a, b = map(int, match.groups())\n",
    "            result += a * b"
   ]
  }
 ],
 "metadata": {
  "kernelspec": {
   "display_name": "Python 3",
   "language": "python",
   "name": "python3"
  },
  "language_info": {
   "codemirror_mode": {
    "name": "ipython",
    "version": 3
   },
   "file_extension": ".py",
   "mimetype": "text/x-python",
   "name": "python",
   "nbconvert_exporter": "python",
   "pygments_lexer": "ipython3",
   "version": "3.11.0"
  }
 },
 "nbformat": 4,
 "nbformat_minor": 2
}
