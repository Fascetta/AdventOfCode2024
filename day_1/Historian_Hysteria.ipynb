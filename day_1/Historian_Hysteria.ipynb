{
 "cells": [
  {
   "cell_type": "markdown",
   "metadata": {},
   "source": [
    "# Day 1: Historian Hysteria"
   ]
  },
  {
   "cell_type": "markdown",
   "metadata": {},
   "source": [
    "## Part 1"
   ]
  },
  {
   "cell_type": "markdown",
   "metadata": {},
   "source": [
    "The **Chief Historian** is always present for the big Christmas sleigh launch,  \n",
    "but nobody has seen him in months! Last anyone heard, he was visiting  \n",
    "locations that are historically significant to the North Pole; a group of  \n",
    "Senior Historians has asked you to accompany them as they check the places  \n",
    "they think he was most likely to visit.  \n",
    "\n",
    "As each location is checked, they will mark it on their list with a ***star***.  \n",
    "They figure the Chief Historian must be in one of the first fifty places  \n",
    "they'll look, so in order to save Christmas, you need to help them get  \n",
    "***fifty stars*** on their list before Santa takes off on December 25th.  \n",
    "\n",
    "Collect stars by solving puzzles. Two puzzles will be made available on  \n",
    "each day in the Advent calendar; the second puzzle is unlocked when you  \n",
    "complete the first. Each puzzle grants ***one star***. Good luck!  \n",
    "\n",
    "You haven't even left yet and the group of Elvish Senior Historians has  \n",
    "already hit a problem: their list of locations to check is currently **empty**.  \n",
    "Eventually, someone decides that the best place to check first would be the  \n",
    "Chief Historian's office.  \n",
    "\n",
    "Upon pouring into the office, everyone confirms that the Chief Historian is  \n",
    "indeed nowhere to be found. Instead, the Elves discover an assortment of  \n",
    "notes and lists of historically significant locations! This seems to be the  \n",
    "planning the Chief Historian was doing before he left. Perhaps these notes  \n",
    "can be used to determine which locations to search?  \n",
    "\n",
    "Throughout the Chief's office, the historically significant locations are  \n",
    "listed not by name but by a unique number called the **location ID**. To make  \n",
    "sure they don't miss anything, The Historians split into two groups, each  \n",
    "searching the office and trying to create their own complete list of  \n",
    "location IDs.  \n",
    "\n",
    "There's just one problem: by holding the two lists up **side by side** (your  \n",
    "puzzle input), it quickly becomes clear that the lists aren't very similar.  \n",
    "Maybe you can help The Historians reconcile their lists?  \n",
    "\n",
    "For example:  \n",
    "```\n",
    "3   4\n",
    "4   3\n",
    "2   5\n",
    "1   3\n",
    "3   9\n",
    "3   3\n",
    "```\n",
    "Maybe the lists are only off by a small amount! To find out, pair up the numbers  \n",
    "and measure how far apart they are. Pair up the **smallest number in  \n",
    "the left list** with the **smallest number in the right list**, then the **second-  \n",
    "smallest left number** with the **second-smallest right number**, and so on.  \n",
    "\n",
    "Within each pair, figure out how far apart the two numbers are; you'll need  \n",
    "to add up all of those distances. For example, if you pair up a ```3``` from the  \n",
    "left list with a ```7``` from the right list, the distance apart is ```4```; if you  \n",
    "pair up a ```9``` with a ```3```, the distance apart is ```6```.  \n",
    "\n",
    "In the example list above, the pairs and distances would be as follows:\n",
    "\n",
    "- The smallest number in the left list is ```1```, and the smallest number in  \n",
    "  the right list is ```3```. The distance between them is ```2```.  \n",
    "- The second-smallest number in the left list is ```2```, and the second-  \n",
    "  smallest number in the right list is another ```3```. The distance between  \n",
    "  them is ```1```.  \n",
    "- The third-smallest number in both lists is ```3```, so the distance between  \n",
    "  them is ```0```.  \n",
    "- The next numbers to pair up are ```3``` and ```4```, a distance of ```1```.  \n",
    "- The fifth-smallest numbers in each list are ```3``` and ```5```, a distance of ```2```.  \n",
    "- Finally, the largest number in the left list is ```4```, while the largest  \n",
    "  number in the right list is ```9```; these are a distance ```5``` apart.  \n",
    "\n",
    "To find the total distance between the left list and the right list, add up  \n",
    "the distances between all of the pairs you found. In the example above,  \n",
    "this is ```2 + 1 + 0 + 1 + 2 + 5```, a total distance of ```11```!  \n",
    "\n",
    "Your actual left and right lists contain many location IDs. What is the  \n",
    "total distance between your lists?\n",
    "\n",
    "\n"
   ]
  },
  {
   "cell_type": "markdown",
   "metadata": {},
   "source": [
    "### Code"
   ]
  },
  {
   "cell_type": "markdown",
   "metadata": {},
   "source": [
    "Read the input file"
   ]
  },
  {
   "cell_type": "code",
   "execution_count": 4,
   "metadata": {},
   "outputs": [],
   "source": [
    "with open('puzzle_input.txt', 'r', encoding='UTF-8') as f:\n",
    "    puzzle_input = f.read().strip()"
   ]
  },
  {
   "cell_type": "markdown",
   "metadata": {},
   "source": [
    "Parse the input data"
   ]
  },
  {
   "cell_type": "code",
   "execution_count": 5,
   "metadata": {},
   "outputs": [],
   "source": [
    "pairs = [line.split() for line in puzzle_input.split('\\n') if line]\n",
    "left = sorted([int(pair[0]) for pair in pairs])\n",
    "right = sorted([int(pair[1]) for pair in pairs])"
   ]
  },
  {
   "cell_type": "markdown",
   "metadata": {},
   "source": [
    "Calculate Result"
   ]
  },
  {
   "cell_type": "code",
   "execution_count": 7,
   "metadata": {},
   "outputs": [
    {
     "data": {
      "text/plain": [
       "2367773"
      ]
     },
     "execution_count": 7,
     "metadata": {},
     "output_type": "execute_result"
    }
   ],
   "source": [
    "total_distance = sum(abs(l - r) for l, r in zip(left, right))\n",
    "total_distance"
   ]
  },
  {
   "cell_type": "markdown",
   "metadata": {},
   "source": [
    "## Part 2"
   ]
  },
  {
   "cell_type": "markdown",
   "metadata": {},
   "source": [
    "Your analysis only confirmed what everyone feared: the two lists of  \n",
    "location IDs are indeed very different.\n",
    "\n",
    "Or are they?\n",
    "\n",
    "The Historians can't agree on which group made the mistakes **or** how to read  \n",
    "most of the Chief's handwriting, but in the commotion you notice an  \n",
    "interesting detail: a lot of location IDs appear in both lists! Maybe the  \n",
    "other numbers aren't location IDs at all but rather misinterpreted  \n",
    "handwriting.\n",
    "\n",
    "This time, you'll need to figure out exactly how often each number from the  \n",
    "left list appears in the right list. Calculate a total **similarity score** by  \n",
    "adding up each number in the left list after multiplying it by the number  \n",
    "of times that number appears in the right list.\n",
    "\n",
    "Here are the same example lists again:\n",
    "\n",
    "```\n",
    "3   4\n",
    "4   3\n",
    "2   5\n",
    "1   3\n",
    "3   9\n",
    "3   3\n",
    "```\n",
    "\n",
    "For these example lists, here is the process of finding the similarity  \n",
    "score:\n",
    "\n",
    "- The first number in the left list is ```3```. It appears in the right list  \n",
    "three times, so the similarity score increases by ```3 * 3 = 9```.\n",
    "- The second number in the left list is ```4```. It appears in the right list  \n",
    "once, so the similarity score increases by ```4 * 1 = 4```.\n",
    "- The third number in the left list is ```2```. It does not appear in the  \n",
    "right list, so the similarity score does not increase (```2 * 0 = 0```).\n",
    "- The fourth number, ```1```, also does not appear in the right list.\n",
    "- The fifth number, ```3```, appears in the right list three times; the  \n",
    "similarity score increases by ```9```.\n",
    "- The last number, ```3```, appears in the right list three times; the  \n",
    "similarity score again increases by ```9```.\n",
    "\n",
    "So, for these example lists, the similarity score at the end of this  \n",
    "process is ```31``` (```9 + 4 + 0 + 0 + 9 + 9```).\n",
    "\n",
    "Once again consider your left and right lists. **What is their similarity  \n",
    "score?**"
   ]
  },
  {
   "cell_type": "markdown",
   "metadata": {},
   "source": [
    "### Code"
   ]
  },
  {
   "cell_type": "markdown",
   "metadata": {},
   "source": [
    "Compute frequency counts for elements in *right*"
   ]
  },
  {
   "cell_type": "code",
   "execution_count": 16,
   "metadata": {},
   "outputs": [],
   "source": [
    "right_frequencies = {}\n",
    "for num in right:\n",
    "    if num in right_frequencies:\n",
    "        right_frequencies[num] += 1\n",
    "    else:\n",
    "        right_frequencies[num] = 1"
   ]
  },
  {
   "cell_type": "markdown",
   "metadata": {},
   "source": [
    "Compute similarity score"
   ]
  },
  {
   "cell_type": "code",
   "execution_count": 17,
   "metadata": {},
   "outputs": [
    {
     "data": {
      "text/plain": [
       "21271939"
      ]
     },
     "execution_count": 17,
     "metadata": {},
     "output_type": "execute_result"
    }
   ],
   "source": [
    "similarity_score = 0\n",
    "for entry in left:\n",
    "    if entry in right_frequencies:\n",
    "        similarity_score += entry * right_frequencies[entry]\n",
    "similarity_score"
   ]
  }
 ],
 "metadata": {
  "kernelspec": {
   "display_name": "Python 3",
   "language": "python",
   "name": "python3"
  },
  "language_info": {
   "codemirror_mode": {
    "name": "ipython",
    "version": 3
   },
   "file_extension": ".py",
   "mimetype": "text/x-python",
   "name": "python",
   "nbconvert_exporter": "python",
   "pygments_lexer": "ipython3",
   "version": "3.11.0"
  }
 },
 "nbformat": 4,
 "nbformat_minor": 2
}
